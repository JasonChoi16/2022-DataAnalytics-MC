{
  "nbformat": 4,
  "nbformat_minor": 0,
  "metadata": {
    "colab": {
      "name": "Assignment Unit 2 L2.ipynb",
      "provenance": [],
      "authorship_tag": "ABX9TyP0fcpPr/j+0aEELtiAFHOj",
      "include_colab_link": true
    },
    "kernelspec": {
      "name": "python3",
      "display_name": "Python 3"
    },
    "language_info": {
      "name": "python"
    }
  },
  "cells": [
    {
      "cell_type": "markdown",
      "metadata": {
        "id": "view-in-github",
        "colab_type": "text"
      },
      "source": [
        "<a href=\"https://colab.research.google.com/github/JasonChoi16/2022-DataAnalytics-MC/blob/main/2022-DataAnalytics-MC/Units/Unit%202/Assignment_Unit_2_L2.ipynb\" target=\"_parent\"><img src=\"https://colab.research.google.com/assets/colab-badge.svg\" alt=\"Open In Colab\"/></a>"
      ]
    },
    {
      "cell_type": "markdown",
      "source": [
        "Homework 1 Unit 2 Jason Choi\n"
      ],
      "metadata": {
        "id": "6cl3JLXiBZdf"
      }
    },
    {
      "cell_type": "markdown",
      "source": [
        "# #1 Python is a widely used programming language. It is useful because of the variety of uses that it has. It's also very useful because of its capabilities to handle large amounts of data, complex operations, and it is meant to be a simple form of code which makes processes much easier."
      ],
      "metadata": {
        "id": "GFuwutwwMUOj"
      }
    },
    {
      "cell_type": "markdown",
      "source": [
        "# #2 The only names that are capable of being variables are Greeting_message, Message_1, and Full_name. The other variables have their own issues. \"1_message\" isn't eligible because it starts with a number and \"First name\" isn't eligible because there is a space. "
      ],
      "metadata": {
        "id": "98OLP44NNTMg"
      }
    },
    {
      "cell_type": "code",
      "source": [
        "Greeting = \"hello there!\"\n",
        "print (Greeting)"
      ],
      "metadata": {
        "colab": {
          "base_uri": "https://localhost:8080/"
        },
        "id": "1VIrF2RiOK45",
        "outputId": "1a877581-5a55-494f-95ee-6956ec77ef18"
      },
      "execution_count": null,
      "outputs": [
        {
          "output_type": "stream",
          "name": "stdout",
          "text": [
            "hello there!\n"
          ]
        }
      ]
    },
    {
      "cell_type": "code",
      "source": [
        "First_name = \"Jason\"\n",
        "Surname = \"Choi\"\n",
        "email = \"@gmail.com\"\n",
        "Full_Email = First_name + Surname + email\n",
        "print (Full_Email)"
      ],
      "metadata": {
        "colab": {
          "base_uri": "https://localhost:8080/"
        },
        "id": "_1tdOxSnPYKO",
        "outputId": "3693f2ab-8cca-43eb-a92a-bd76e4cba5b9"
      },
      "execution_count": null,
      "outputs": [
        {
          "output_type": "stream",
          "name": "stdout",
          "text": [
            "JasonChoi@gmail.com\n"
          ]
        }
      ]
    },
    {
      "cell_type": "code",
      "source": [
        "name = \"Eliana\"\n",
        "print(name.upper())\n",
        "print(name.lower())"
      ],
      "metadata": {
        "colab": {
          "base_uri": "https://localhost:8080/"
        },
        "id": "42Gt6JekQyec",
        "outputId": "883d0286-a4e1-4582-857f-4105542698f2"
      },
      "execution_count": null,
      "outputs": [
        {
          "output_type": "stream",
          "name": "stdout",
          "text": [
            "ELIANA\n",
            "eliana\n"
          ]
        }
      ]
    },
    {
      "cell_type": "code",
      "source": [
        "day = \"12\"\n",
        "message = \"Do you want to hang out on the \" + str(day) + \"th of this month?\"\n",
        "print(message)"
      ],
      "metadata": {
        "colab": {
          "base_uri": "https://localhost:8080/"
        },
        "id": "QjQy6DBIR3Tn",
        "outputId": "45fc2bd7-50a0-4ae1-e529-446be4176db4"
      },
      "execution_count": null,
      "outputs": [
        {
          "output_type": "stream",
          "name": "stdout",
          "text": [
            "Do you want to hang out on the 12th of this month?\n"
          ]
        }
      ]
    }
  ]
}