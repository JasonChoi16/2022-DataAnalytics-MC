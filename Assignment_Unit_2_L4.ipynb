{
  "nbformat": 4,
  "nbformat_minor": 0,
  "metadata": {
    "colab": {
      "name": "Assignment Unit 2 L4.ipynb",
      "provenance": [],
      "authorship_tag": "ABX9TyN6GVBUoc2CqqqAy3sEp/hJ",
      "include_colab_link": true
    },
    "kernelspec": {
      "name": "python3",
      "display_name": "Python 3"
    },
    "language_info": {
      "name": "python"
    }
  },
  "cells": [
    {
      "cell_type": "markdown",
      "metadata": {
        "id": "view-in-github",
        "colab_type": "text"
      },
      "source": [
        "<a href=\"https://colab.research.google.com/github/JasonChoi16/2022-DataAnalytics-MC/blob/main/Assignment_Unit_2_L4.ipynb\" target=\"_parent\"><img src=\"https://colab.research.google.com/assets/colab-badge.svg\" alt=\"Open In Colab\"/></a>"
      ]
    },
    {
      "cell_type": "code",
      "execution_count": null,
      "metadata": {
        "colab": {
          "base_uri": "https://localhost:8080/"
        },
        "id": "CQfMCBA8uZ1g",
        "outputId": "b1fa30e7-5178-4cab-f60d-bc19874afed7"
      },
      "outputs": [
        {
          "output_type": "stream",
          "name": "stdout",
          "text": [
            "Roosevelt Island\n",
            "Dumbo\n",
            "K-town\n",
            "Central Park\n",
            "MOMA\n"
          ]
        }
      ],
      "source": [
        "attractions = [\"Roosevelt Island\", \"Dumbo\", \"K-town\", \"Central Park\", \"MOMA\"]\n",
        "for at in attractions:\n",
        "  print (at)"
      ]
    },
    {
      "cell_type": "code",
      "source": [
        "attractions = [\"Roosevelt Island\", \"Dumbo\", \"K-town\", \"Central Park\", \"MOMA\"]\n",
        "for at in attractions:\n",
        "  print (\"Let's go to \" + at.title() + \" on Wednesday.\")"
      ],
      "metadata": {
        "colab": {
          "base_uri": "https://localhost:8080/"
        },
        "id": "xUc4vHkdvnC0",
        "outputId": "d396b6be-9fed-4b16-a375-3c37f0671d65"
      },
      "execution_count": null,
      "outputs": [
        {
          "output_type": "stream",
          "name": "stdout",
          "text": [
            "Let's go to Roosevelt Island on Wednesday.\n",
            "Let's go to Dumbo on Wednesday.\n",
            "Let's go to K-Town on Wednesday.\n",
            "Let's go to Central Park on Wednesday.\n",
            "Let's go to Moma on Wednesday.\n"
          ]
        }
      ]
    },
    {
      "cell_type": "code",
      "source": [
        "numbers = list(range(2,22, 2))\n",
        "print(numbers)"
      ],
      "metadata": {
        "colab": {
          "base_uri": "https://localhost:8080/"
        },
        "id": "2FuWSegjwBJh",
        "outputId": "65b42df5-5f64-48e9-8090-b3e0a5956daa"
      },
      "execution_count": null,
      "outputs": [
        {
          "output_type": "stream",
          "name": "stdout",
          "text": [
            "[2, 4, 6, 8, 10, 12, 14, 16, 18, 20]\n"
          ]
        }
      ]
    },
    {
      "cell_type": "code",
      "source": [
        "attractions = [\"Roosevelt Island\", \"Dumbo\", \"K-town\", \"Central Park\", \"MOMA\"]\n",
        "attractions.sort()\n",
        "print (attractions)\n"
      ],
      "metadata": {
        "colab": {
          "base_uri": "https://localhost:8080/"
        },
        "id": "9hEPmUKVwwBK",
        "outputId": "0c298c56-8914-48df-fda0-d89ae8769c02"
      },
      "execution_count": null,
      "outputs": [
        {
          "output_type": "stream",
          "name": "stdout",
          "text": [
            "['Central Park', 'Dumbo', 'K-town', 'MOMA', 'Roosevelt Island']\n"
          ]
        }
      ]
    },
    {
      "cell_type": "code",
      "source": [
        "attractions = [\"Roosevelt Island\", \"Dumbo\", \"K-town\", \"Central Park\", \"MOMA\"]\n",
        "for at in attractions[0:3]:\n",
        "  print (at)"
      ],
      "metadata": {
        "colab": {
          "base_uri": "https://localhost:8080/"
        },
        "id": "0DpD9aX6xXNO",
        "outputId": "2adef925-e60e-462a-f82c-aded5361879a"
      },
      "execution_count": null,
      "outputs": [
        {
          "output_type": "stream",
          "name": "stdout",
          "text": [
            "Roosevelt Island\n",
            "Dumbo\n",
            "K-town\n"
          ]
        }
      ]
    },
    {
      "cell_type": "code",
      "source": [
        "attractions = [\"Roosevelt Island\", \"Dumbo\", \"K-town\", \"Central Park\", \"MOMA\"]\n",
        "for at in attractions[3:5]:\n",
        "  print (at)"
      ],
      "metadata": {
        "colab": {
          "base_uri": "https://localhost:8080/"
        },
        "id": "u4-e3FCeymO0",
        "outputId": "0ec5b362-8483-400f-e92e-348c5e51241a"
      },
      "execution_count": null,
      "outputs": [
        {
          "output_type": "stream",
          "name": "stdout",
          "text": [
            "Central Park\n",
            "MOMA\n"
          ]
        }
      ]
    }
  ]
}