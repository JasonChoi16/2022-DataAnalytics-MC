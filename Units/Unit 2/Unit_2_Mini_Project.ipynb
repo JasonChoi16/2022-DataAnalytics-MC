{
  "nbformat": 4,
  "nbformat_minor": 0,
  "metadata": {
    "colab": {
      "name": "Unit 2 Mini Project.ipynb",
      "provenance": [],
      "authorship_tag": "ABX9TyPY3IWHfPrSeIee4xXmYE9Q",
      "include_colab_link": true
    },
    "kernelspec": {
      "name": "python3",
      "display_name": "Python 3"
    },
    "language_info": {
      "name": "python"
    }
  },
  "cells": [
    {
      "cell_type": "markdown",
      "metadata": {
        "id": "view-in-github",
        "colab_type": "text"
      },
      "source": [
        "<a href=\"https://colab.research.google.com/github/JasonChoi16/2022-DataAnalytics-MC/blob/main/Units/Unit%202/Unit_2_Mini_Project.ipynb\" target=\"_parent\"><img src=\"https://colab.research.google.com/assets/colab-badge.svg\" alt=\"Open In Colab\"/></a>"
      ]
    },
    {
      "cell_type": "code",
      "execution_count": 3,
      "metadata": {
        "colab": {
          "base_uri": "https://localhost:8080/"
        },
        "id": "HQO0y6H39Vkq",
        "outputId": "4dee6a2b-affc-43e2-9352-2665e1afb3d4"
      },
      "outputs": [
        {
          "output_type": "stream",
          "name": "stdout",
          "text": [
            "Enter a number: 20\n",
            "You picked an even number.\n",
            "20 is a multiple of 4\n"
          ]
        }
      ],
      "source": [
        "num = int(input(\"Enter a number: \"))\n",
        "mod = num % 2\n",
        "if mod > 0:\n",
        "  print(\"You picked an odd number.\")\n",
        "else:\n",
        "  print(\"You picked an even number.\")\n",
        "if num % 4 == 0:\n",
        "  print (num, \"is a multiple of 4\")"
      ]
    },
    {
      "cell_type": "code",
      "source": [
        "num = int(input(\"Enter a number: \"))\n",
        "check = int(input(\"Enter a number to divide by: \"))\n",
        "\n",
        "if num % check == 0:\n",
        "  print (\"Divides evenly.\")\n",
        "else:\n",
        "  print (\"Doesn't divide evenly\")"
      ],
      "metadata": {
        "colab": {
          "base_uri": "https://localhost:8080/"
        },
        "id": "1mt6SYi-sWNm",
        "outputId": "8345fead-3c71-4d43-941d-ca75886ef1ef"
      },
      "execution_count": 4,
      "outputs": [
        {
          "output_type": "stream",
          "name": "stdout",
          "text": [
            "Enter a number: 20\n",
            "Enter a number to divide by: 5\n",
            "Divides evenly.\n"
          ]
        }
      ]
    }
  ]
}