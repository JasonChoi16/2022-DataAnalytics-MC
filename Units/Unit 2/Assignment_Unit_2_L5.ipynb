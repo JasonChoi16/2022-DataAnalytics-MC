{
  "nbformat": 4,
  "nbformat_minor": 0,
  "metadata": {
    "colab": {
      "name": "Assignment Unit 2 L5.ipynb",
      "provenance": [],
      "authorship_tag": "ABX9TyMGb3z6mtC0RJLIixaY0NXG",
      "include_colab_link": true
    },
    "kernelspec": {
      "name": "python3",
      "display_name": "Python 3"
    },
    "language_info": {
      "name": "python"
    }
  },
  "cells": [
    {
      "cell_type": "markdown",
      "metadata": {
        "id": "view-in-github",
        "colab_type": "text"
      },
      "source": [
        "<a href=\"https://colab.research.google.com/github/JasonChoi16/2022-DataAnalytics-MC/blob/main/Units/Unit%202/Assignment_Unit_2_L5.ipynb\" target=\"_parent\"><img src=\"https://colab.research.google.com/assets/colab-badge.svg\" alt=\"Open In Colab\"/></a>"
      ]
    },
    {
      "cell_type": "code",
      "execution_count": null,
      "metadata": {
        "colab": {
          "base_uri": "https://localhost:8080/"
        },
        "id": "v8uwYzRr3jZd",
        "outputId": "1924f503-30f3-4993-8d0a-3370e6a26b3a"
      },
      "outputs": [
        {
          "output_type": "stream",
          "name": "stdout",
          "text": [
            "Thank you for logging in lil_dumpling007.\n",
            "Thank you for logging in Stantlery.\n",
            "Thank you for logging in Wubby_Bear.\n",
            "Thank you for logging in Seungjae_Hoh.\n",
            "Thank you, please have a nice day ADMIN!\n"
          ]
        }
      ],
      "source": [
        "username = [\"lil_dumpling007\", \"Stantlery\", \"Wubby_Bear\", \"Seungjae_Hoh\", \"Admin\"]\n",
        "for us in username: \n",
        "  if us == \"Admin\":\n",
        "    print (\"Thank you, please have a nice day \" + username[4].upper() + \"!\")\n",
        "  else:\n",
        "    print (\"Thank you for logging in \" + us + \".\")"
      ]
    },
    {
      "cell_type": "code",
      "source": [
        "numbers = list(range(1,11))\n",
        "for num in numbers:\n",
        "  if num == 1:\n",
        "    print (\"1st\")\n",
        "  if num == 2:\n",
        "    print (\"2nd\")\n",
        "  if num == 3:\n",
        "    print (\"3rd\")\n",
        "  else:\n",
        "    print (str(num) + \"th\")"
      ],
      "metadata": {
        "colab": {
          "base_uri": "https://localhost:8080/"
        },
        "id": "iYrVvMUd5uZv",
        "outputId": "b147add1-86be-4a5c-a175-91f7b6ebbd74"
      },
      "execution_count": null,
      "outputs": [
        {
          "output_type": "stream",
          "name": "stdout",
          "text": [
            "1st\n",
            "1th\n",
            "2nd\n",
            "2th\n",
            "3rd\n",
            "4th\n",
            "5th\n",
            "6th\n",
            "7th\n",
            "8th\n",
            "9th\n",
            "10th\n"
          ]
        }
      ]
    }
  ]
}