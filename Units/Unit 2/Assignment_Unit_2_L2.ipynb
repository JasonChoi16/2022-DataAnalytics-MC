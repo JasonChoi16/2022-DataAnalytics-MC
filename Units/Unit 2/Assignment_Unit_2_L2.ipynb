Homework 1 Unit 2 Jason Choi
#1 Python is a widely used programming language. It is useful because of the variety of uses that it has. It's also very useful because of its capabilities to handle large amounts of data, complex operations, and it is meant to be a simple form of code which makes processes much easier.

#2 The only names that are capable of being variables are Greeting_message, Message_1, and Full_name. The other variables have their own issues. "1_message" isn't eligible because it starts with a number and "First name" isn't eligible because there is a space.

[ ]
 Greeting = "hello there!"
print (Greeting)
 hello there!
[ ]
 First_name = "Jason"
Surname = "Choi"
email = "@gmail.com"
Full_Email = First_name + Surname + email
print (Full_Email)
 JasonChoi@gmail.com
[ ]
 name = "Eliana"
print(name.upper())
print(name.lower())
 ELIANA
eliana
[ ]
day = "12"message = "Do you want to hang out on the " + str(day) + "th of this month?"print(message)

 Do you want to hang out on the 12th of this month?
