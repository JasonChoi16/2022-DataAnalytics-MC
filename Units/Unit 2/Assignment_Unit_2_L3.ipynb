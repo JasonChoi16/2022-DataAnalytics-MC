{
  "nbformat": 4,
  "nbformat_minor": 0,
  "metadata": {
    "colab": {
      "name": "Assignment Unit 2 L3.ipynb",
      "provenance": [],
      "authorship_tag": "ABX9TyOisHUgjU1DTkTvj73Iy7J3",
      "include_colab_link": true
    },
    "kernelspec": {
      "name": "python3",
      "display_name": "Python 3"
    },
    "language_info": {
      "name": "python"
    }
  },
  "cells": [
    {
      "cell_type": "markdown",
      "metadata": {
        "id": "view-in-github",
        "colab_type": "text"
      },
      "source": [
        "<a href=\"https://colab.research.google.com/github/JasonChoi16/2022-DataAnalytics-MC/blob/main/Units/Unit%202/Assignment_Unit_2_L3.ipynb\" target=\"_parent\"><img src=\"https://colab.research.google.com/assets/colab-badge.svg\" alt=\"Open In Colab\"/></a>"
      ]
    },
    {
      "cell_type": "code",
      "execution_count": null,
      "metadata": {
        "colab": {
          "base_uri": "https://localhost:8080/"
        },
        "id": "b4THsuSFd7pH",
        "outputId": "3ba80f49-c602-4d06-e75e-f7aa391ace71"
      },
      "outputs": [
        {
          "output_type": "stream",
          "name": "stdout",
          "text": [
            "['Runningman', 'The Office', 'Stranger Things', 'Pokemon', 'Money Heist']\n"
          ]
        }
      ],
      "source": [
        "list = [\"Runningman\",\"The Office\", \"Stranger Things\", \"Pokemon\",\"Money Heist\"]\n",
        "print(list)"
      ]
    },
    {
      "cell_type": "code",
      "source": [
        "print(sorted(list))\n",
        "#sorted is different from sort in that while they both make a certain order, sorted is a temporary sorting while sort is permanent."
      ],
      "metadata": {
        "colab": {
          "base_uri": "https://localhost:8080/"
        },
        "id": "8RQWcaCygL1O",
        "outputId": "77f73fc8-a3f4-485a-91d2-7ffb5f6cc165"
      },
      "execution_count": null,
      "outputs": [
        {
          "output_type": "stream",
          "name": "stdout",
          "text": [
            "['Money Heist', 'Pokemon', 'Runningman', 'Stranger Things', 'The Office']\n"
          ]
        }
      ]
    },
    {
      "cell_type": "code",
      "source": [
        "print(list)"
      ],
      "metadata": {
        "colab": {
          "base_uri": "https://localhost:8080/"
        },
        "id": "zxtiHOMshRzt",
        "outputId": "86d3c57d-baaa-4c9c-e516-2d69c34dbc4c"
      },
      "execution_count": null,
      "outputs": [
        {
          "output_type": "stream",
          "name": "stdout",
          "text": [
            "['Runningman', 'The Office', 'Stranger Things', 'Pokemon', 'Money Heist']\n"
          ]
        }
      ]
    },
    {
      "cell_type": "code",
      "source": [
        "list = [\"Runningman\",\"The Office\", \"Stranger Things\", \"Pokemon\",\"Money Heist\"]\n",
        "print(list)\n",
        "print(sorted(list))"
      ],
      "metadata": {
        "colab": {
          "base_uri": "https://localhost:8080/"
        },
        "id": "dNsoxYgqhVzK",
        "outputId": "25b48534-a06f-4172-8490-7a3902643ca5"
      },
      "execution_count": null,
      "outputs": [
        {
          "output_type": "stream",
          "name": "stdout",
          "text": [
            "['Runningman', 'The Office', 'Stranger Things', 'Pokemon', 'Money Heist']\n",
            "['Money Heist', 'Pokemon', 'Runningman', 'Stranger Things', 'The Office']\n"
          ]
        }
      ]
    },
    {
      "cell_type": "code",
      "source": [
        "list = [\"Runningman\",\"The Office\", \"Stranger Things\", \"Pokemon\",\"Money Heist\"]\n",
        "print (list)\n",
        "len (list)\n",
        "# 5 shows on my favorites list\n",
        "\n"
      ],
      "metadata": {
        "colab": {
          "base_uri": "https://localhost:8080/"
        },
        "id": "4reaSR_sF-6N",
        "outputId": "a1dd32cd-316e-471f-ed55-0d97f3a6fa86"
      },
      "execution_count": null,
      "outputs": [
        {
          "output_type": "stream",
          "name": "stdout",
          "text": [
            "['Runningman', 'The Office', 'Stranger Things', 'Pokemon', 'Money Heist']\n"
          ]
        },
        {
          "output_type": "execute_result",
          "data": {
            "text/plain": [
              "5"
            ]
          },
          "metadata": {},
          "execution_count": 3
        }
      ]
    }
  ]
}