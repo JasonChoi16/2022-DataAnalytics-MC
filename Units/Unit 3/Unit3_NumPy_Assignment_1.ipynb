{
  "nbformat": 4,
  "nbformat_minor": 0,
  "metadata": {
    "colab": {
      "name": "Unit3_NumPy_Assignment_1.ipynb",
      "provenance": [],
      "collapsed_sections": [],
      "include_colab_link": true
    },
    "kernelspec": {
      "name": "python3",
      "display_name": "Python 3"
    }
  },
  "cells": [
    {
      "cell_type": "markdown",
      "metadata": {
        "id": "view-in-github",
        "colab_type": "text"
      },
      "source": [
        "<a href=\"https://colab.research.google.com/github/JasonChoi16/2022-DataAnalytics-MC/blob/main/Units/Unit%203/Unit3_NumPy_Assignment_1.ipynb\" target=\"_parent\"><img src=\"https://colab.research.google.com/assets/colab-badge.svg\" alt=\"Open In Colab\"/></a>"
      ]
    },
    {
      "cell_type": "markdown",
      "metadata": {
        "id": "Vgs8Kp4TidFQ"
      },
      "source": [
        "# Unit 3 - Advanced Python - NumPy - Assingment #1  "
      ]
    },
    {
      "cell_type": "markdown",
      "metadata": {
        "id": "_Hq7Ny79iwgD"
      },
      "source": [
        "## 1. Environment Set up"
      ]
    },
    {
      "cell_type": "code",
      "metadata": {
        "id": "MiB4JCOP5FdJ"
      },
      "source": [
        "import pandas as pd \n",
        "import numpy as np\n",
        "import matplotlib.pyplot as plt\n",
        "%matplotlib inline"
      ],
      "execution_count": 7,
      "outputs": []
    },
    {
      "cell_type": "code",
      "metadata": {
        "id": "lotvpVpvlKsR"
      },
      "source": [
        "#Dataset from summer Olympic London, year 2012\n",
        "np_olympic_country = np.array(['GBR','China','RUS','US','KOR','JPN','GER'])\n",
        "np_olympic_country_Gold = np.array([29,38,24,46,13,7,11])\n",
        "np_olympic_country_Silver = np.array([17,28,25,28,8,14,11])\n",
        "np_olympic_country_Bronze = np.array([19,22,32,29,7,17,14])"
      ],
      "execution_count": null,
      "outputs": []
    },
    {
      "cell_type": "code",
      "metadata": {
        "id": "oNXY-CfrlLbE"
      },
      "source": [
        ""
      ],
      "execution_count": null,
      "outputs": []
    },
    {
      "cell_type": "markdown",
      "metadata": {
        "id": "io_27RSlizno"
      },
      "source": [
        "## 2.\tFind country with maximum gold"
      ]
    },
    {
      "cell_type": "code",
      "metadata": {
        "id": "Dh1o5cAylSHB",
        "outputId": "6f997b0b-cac1-4575-93f6-d154771ff3c8",
        "colab": {
          "base_uri": "https://localhost:8080/"
        }
      },
      "source": [
        "np_olympic_country = np.array(['GBR','China','RUS','US','KOR','JPN','GER'])\n",
        "np_olympic_country_Gold = np.array([29,38,24,46,13,7,11])\n",
        "np_olympic_country_Silver = np.array([17,28,25,28,8,14,11])\n",
        "np_olympic_country_Bronze = np.array([19,22,32,29,7,17,14])\n",
        "\n",
        "max_gold = np_olympic_country_Gold==max(np_olympic_country_Gold)\n",
        "print(np_olympic_country[max_gold])"
      ],
      "execution_count": 6,
      "outputs": [
        {
          "output_type": "stream",
          "name": "stdout",
          "text": [
            "['US']\n"
          ]
        }
      ]
    },
    {
      "cell_type": "markdown",
      "metadata": {
        "id": "DAW8m8IQjRyR"
      },
      "source": [
        "## 3.\tFind countries with more than 20 gold medals"
      ]
    },
    {
      "cell_type": "code",
      "metadata": {
        "id": "guULMEhrjYtT",
        "colab": {
          "base_uri": "https://localhost:8080/"
        },
        "outputId": "3dd7d042-2440-48d9-f9a4-3eb51acf19db"
      },
      "source": [
        "more_20 = np_olympic_country_Gold >20\n",
        "print (np_olympic_country[more_20])"
      ],
      "execution_count": 10,
      "outputs": [
        {
          "output_type": "stream",
          "name": "stdout",
          "text": [
            "['GBR' 'China' 'RUS' 'US']\n"
          ]
        }
      ]
    },
    {
      "cell_type": "markdown",
      "source": [
        "4. Find countries with more than 14 silver medals"
      ],
      "metadata": {
        "id": "LYiyOvylBmk_"
      }
    },
    {
      "cell_type": "code",
      "metadata": {
        "id": "jjh2GdktllZY",
        "colab": {
          "base_uri": "https://localhost:8080/"
        },
        "outputId": "b79c784a-161c-47d9-b6e8-22de76cd07b9"
      },
      "source": [
        "more_14 = np_olympic_country_Silver >14\n",
        "print (np_olympic_country[more_14])"
      ],
      "execution_count": 13,
      "outputs": [
        {
          "output_type": "stream",
          "name": "stdout",
          "text": [
            "['GBR' 'China' 'RUS' 'US']\n"
          ]
        }
      ]
    },
    {
      "cell_type": "code",
      "metadata": {
        "id": "iHaRIrt8llcd"
      },
      "source": [
        ""
      ],
      "execution_count": null,
      "outputs": []
    }
  ]
}